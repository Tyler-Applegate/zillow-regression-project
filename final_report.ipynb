{
 "cells": [
  {
   "cell_type": "markdown",
   "metadata": {},
   "source": [
    "# Bestimate: A Zillow Regression Model\n",
    "### By Tyler Applegate, Florence Cohort, 2021_06_15"
   ]
  },
  {
   "cell_type": "markdown",
   "metadata": {},
   "source": [
    "## Project Planning:\n",
    "- Create a README.md ith project and business goals, as well as data dictionay and initial hypothoses.\n",
    "- Create a function (or functions) to automate the process of connecting to the Codeup Database, and acquiring the zillow dataframe.\n",
    "- Save these functions to aquire.py so they can be imported into the final_report notebook.\n",
    "- Create a series of functions to automate the process of cleaning and preparing the newly acquired zillow dataframe to get it ready for the exploratory, modeling, and MVP stages of the pipeline.\n",
    "- Save these functions to prepare.py so they can be imported into the final_report notebook.\n",
    "- Clearly define at least two hypotheses, set an alpha, run necessary statistical testing, reject, or fail to reject each null hypothesis, and document findings are key takeaways.\n",
    "- Establish a baseline accuracy, model improvement goals.\n",
    "- Train at least 3 different regression models.\n",
    "- Evaluate these models on the train, and validate data sets.\n",
    "- Choose the best model to evaluate on the test dataset.\n",
    "- Document takeways, key findings, conclusions, and next steps in the final report notebook."
   ]
  },
  {
   "cell_type": "markdown",
   "metadata": {},
   "source": [
    "Project Planning\n",
    "Goal: leave this section with (at least the outline of) a plan for the project documented in your README.md file.\n",
    "\n",
    "Think about the following in this stage:\n",
    "\n",
    "Brainstorming ideas and form hypotheses related to how variables might impact or relate to each other, both within independent variables and between the independent variables and dependent variable.\n",
    "\n",
    "Document any ideas for new features you may have while first looking at the existing variables and the project goals ahead of you.\n",
    "\n",
    "Think about what things in your project are nice to have, versus which things are need to have. For example, you might document that you will only worry about trying to scale your features after creating and evaluating a baseline model.\n",
    "\n"
   ]
  },
  {
   "cell_type": "code",
   "execution_count": null,
   "metadata": {},
   "outputs": [],
   "source": []
  }
 ],
 "metadata": {
  "kernelspec": {
   "display_name": "Python 3.8.5 64-bit ('base': conda)",
   "language": "python",
   "name": "python385jvsc74a57bd0b64057e63add2b45b1ffc7eab9b09c8889b419c878e2fdf0d08f837f0fc857a7"
  },
  "language_info": {
   "codemirror_mode": {
    "name": "ipython",
    "version": 3
   },
   "file_extension": ".py",
   "mimetype": "text/x-python",
   "name": "python",
   "nbconvert_exporter": "python",
   "pygments_lexer": "ipython3",
   "version": "3.8.5"
  }
 },
 "nbformat": 4,
 "nbformat_minor": 4
}
