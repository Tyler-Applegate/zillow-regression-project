{
 "cells": [
  {
   "cell_type": "markdown",
   "metadata": {},
   "source": [
    "# Zillow Bestimate\n",
    "## Wrangle Notebook"
   ]
  },
  {
   "cell_type": "code",
   "execution_count": 1,
   "metadata": {},
   "outputs": [],
   "source": [
    "# imports\n",
    "import pandas as pd\n",
    "import numpy as np\n",
    "import os\n",
    "import acquire\n",
    "import prepare"
   ]
  },
  {
   "cell_type": "markdown",
   "metadata": {},
   "source": [
    "### Data Acquisition"
   ]
  },
  {
   "cell_type": "code",
   "execution_count": null,
   "metadata": {},
   "outputs": [],
   "source": [
    "df = acquire.get_zillow_data()"
   ]
  },
  {
   "cell_type": "code",
   "execution_count": null,
   "metadata": {},
   "outputs": [],
   "source": [
    "# what do we have to work with?\n",
    "df.info()"
   ]
  },
  {
   "cell_type": "markdown",
   "metadata": {},
   "source": [
    "### Data Preparation"
   ]
  },
  {
   "cell_type": "code",
   "execution_count": null,
   "metadata": {},
   "outputs": [],
   "source": [
    "# reset index to parcel_id\n",
    "df.set_index('parcel_id', drop=True, inplace=True)"
   ]
  },
  {
   "cell_type": "code",
   "execution_count": null,
   "metadata": {},
   "outputs": [],
   "source": [
    "# do we have any whitespace?\n",
    "df = df.replace(r'^\\s*$', np.nan, regex=True)"
   ]
  },
  {
   "cell_type": "code",
   "execution_count": null,
   "metadata": {},
   "outputs": [],
   "source": [
    "# how many null values do I have?\n",
    "df.isnull().sum()"
   ]
  },
  {
   "cell_type": "code",
   "execution_count": null,
   "metadata": {},
   "outputs": [],
   "source": [
    "# let's drop them\n",
    "df = df.dropna()"
   ]
  },
  {
   "cell_type": "code",
   "execution_count": null,
   "metadata": {},
   "outputs": [],
   "source": [
    "df.shape"
   ]
  },
  {
   "cell_type": "code",
   "execution_count": null,
   "metadata": {},
   "outputs": [],
   "source": [
    "# do we have any duplicates\n",
    "df = df.drop_duplicates()\n",
    "df.shape"
   ]
  },
  {
   "cell_type": "code",
   "execution_count": null,
   "metadata": {},
   "outputs": [],
   "source": [
    "# let's add a column to show the age of the house, not just year built\n",
    "df['age'] = 2017 - df['yearbuilt']"
   ]
  },
  {
   "cell_type": "code",
   "execution_count": null,
   "metadata": {},
   "outputs": [],
   "source": [
    "df.columns"
   ]
  },
  {
   "cell_type": "code",
   "execution_count": null,
   "metadata": {},
   "outputs": [],
   "source": [
    "# let's convert floats to integers where possible\n",
    "df['bed'] = df['bed'].astype(int)\n",
    "df['sqft_calc'] = df['sqft_calc'].astype(int)\n",
    "df['fips'] = df['fips'].astype(int)\n",
    "df['yearbuilt'] = df['yearbuilt'].astype(int)\n",
    "df['appraised_value'] = df['appraised_value'].astype(int)\n",
    "df['age'] = df['age'].astype(int)"
   ]
  },
  {
   "cell_type": "code",
   "execution_count": null,
   "metadata": {},
   "outputs": [],
   "source": [
    "df.shape"
   ]
  },
  {
   "cell_type": "code",
   "execution_count": null,
   "metadata": {},
   "outputs": [],
   "source": [
    "# calculate upper and lower bounds for bath and remove those outside 1.5 * IQR\n",
    "bath_25, bath_75 = df['bath'].quantile([0.25, 0.75])\n",
    "bath_iqr = bath_75 - bath_25\n",
    "bath_upper = bath_75 + (1.5 * bath_iqr)\n",
    "bath_lower = bath_25 - (1.5 * bath_iqr)\n",
    "df = df[df['bath'] > bath_lower]\n",
    "df = df[df['bath'] < bath_upper]\n",
    "df.shape"
   ]
  },
  {
   "cell_type": "code",
   "execution_count": null,
   "metadata": {},
   "outputs": [],
   "source": [
    "# calculate upper and lower bounds for bed and remove those outside 1.5 * IQR\n",
    "bed_25, bed_75 = df['bed'].quantile([0.25, 0.75])\n",
    "bed_iqr = bed_75 - bed_25\n",
    "bed_upper = bed_75 + (1.5 * bed_iqr)\n",
    "bed_lower = bed_25 - (1.5 * bed_iqr)\n",
    "df = df[df['bed'] > bed_lower]\n",
    "df = df[df['bed'] < bed_upper]\n",
    "df.shape"
   ]
  },
  {
   "cell_type": "code",
   "execution_count": null,
   "metadata": {},
   "outputs": [],
   "source": [
    "# calculate upper and lower bounds for square_feet and remove those outside 1.5 * IQR\n",
    "sqft_25, sqft_75 = df['sqft_calc'].quantile([0.25, 0.75])\n",
    "sqft_iqr = sqft_75 - sqft_25\n",
    "limit_upper = sqft_75 + (1.5 * sqft_iqr)\n",
    "limit_lower = sqft_25 - (1.5 * sqft_iqr)\n",
    "df = df[df['sqft_calc'] > limit_lower]\n",
    "df = df[df['sqft_calc'] < limit_upper]\n",
    "df.shape"
   ]
  },
  {
   "cell_type": "code",
   "execution_count": null,
   "metadata": {},
   "outputs": [],
   "source": [
    "# calculate upper and lower bounds for tax_amount and remove those outside 1.5 * IQR\n",
    "tax_25, tax_75 = df['tax_amount'].quantile([0.25, 0.75])\n",
    "tax_iqr = tax_75 - tax_25\n",
    "tax_upper = tax_75 + (1.5 * tax_iqr)\n",
    "tax_lower = tax_25 - (1.5 * tax_iqr)\n",
    "df = df[df['tax_amount'] > tax_lower]\n",
    "df = df[df['tax_amount'] < tax_upper]\n",
    "df.shape"
   ]
  },
  {
   "cell_type": "code",
   "execution_count": null,
   "metadata": {},
   "outputs": [],
   "source": [
    "# calculate upper and lower bounds for age and remove those outside 1.5 * IQR\n",
    "age_25, age_75 = df['age'].quantile([0.25, 0.75])\n",
    "age_iqr = age_75 - age_25\n",
    "age_upper = age_75 + (1.5 * age_iqr)\n",
    "age_lower = age_25 - (1.5 * age_iqr)\n",
    "df = df[df['age'] > age_lower]\n",
    "df = df[df['age'] < age_upper]\n",
    "df.shape"
   ]
  },
  {
   "cell_type": "code",
   "execution_count": null,
   "metadata": {},
   "outputs": [],
   "source": [
    "# repeat for appraised value\n",
    "app_val_25, app_val_75 = df['appraised_value'].quantile([0.25, 0.75])\n",
    "app_val_iqr = app_val_75 - app_val_25\n",
    "upper_value = app_val_75 + (1.5 * app_val_iqr)\n",
    "lower_value = app_val_25 - (1.5 * app_val_iqr)\n",
    "df = df[df['appraised_value'] > lower_value]\n",
    "df = df[df['appraised_value'] < upper_value]\n",
    "df.shape"
   ]
  },
  {
   "cell_type": "code",
   "execution_count": null,
   "metadata": {},
   "outputs": [],
   "source": [
    "col_list = ['bath', 'bed', 'sqft_calc', 'yearbuilt', 'appraised_value',\n",
    "       'tax_amount', 'age']"
   ]
  },
  {
   "cell_type": "code",
   "execution_count": 2,
   "metadata": {},
   "outputs": [],
   "source": [
    "df = prepare.prep_zillow()"
   ]
  },
  {
   "cell_type": "code",
   "execution_count": 3,
   "metadata": {},
   "outputs": [
    {
     "data": {
      "text/plain": [
       "(23937, 8)"
      ]
     },
     "execution_count": 3,
     "metadata": {},
     "output_type": "execute_result"
    }
   ],
   "source": [
    "df.shape"
   ]
  },
  {
   "cell_type": "code",
   "execution_count": 4,
   "metadata": {},
   "outputs": [
    {
     "name": "stdout",
     "output_type": "stream",
     "text": [
      "<class 'pandas.core.frame.DataFrame'>\n",
      "Int64Index: 23937 entries, 11721753 to 10713993\n",
      "Data columns (total 8 columns):\n",
      " #   Column           Non-Null Count  Dtype  \n",
      "---  ------           --------------  -----  \n",
      " 0   bath             23937 non-null  float64\n",
      " 1   bed              23937 non-null  int64  \n",
      " 2   sqft_calc        23937 non-null  int64  \n",
      " 3   fips             23937 non-null  int64  \n",
      " 4   yearbuilt        23937 non-null  int64  \n",
      " 5   appraised_value  23937 non-null  int64  \n",
      " 6   tax_amount       23937 non-null  float64\n",
      " 7   age              23937 non-null  int64  \n",
      "dtypes: float64(2), int64(6)\n",
      "memory usage: 1.6 MB\n"
     ]
    }
   ],
   "source": [
    "df.info()"
   ]
  },
  {
   "cell_type": "code",
   "execution_count": null,
   "metadata": {},
   "outputs": [],
   "source": []
  }
 ],
 "metadata": {
  "kernelspec": {
   "display_name": "Python 3.8.5 64-bit ('base': conda)",
   "language": "python",
   "name": "python385jvsc74a57bd0b64057e63add2b45b1ffc7eab9b09c8889b419c878e2fdf0d08f837f0fc857a7"
  },
  "language_info": {
   "codemirror_mode": {
    "name": "ipython",
    "version": 3
   },
   "file_extension": ".py",
   "mimetype": "text/x-python",
   "name": "python",
   "nbconvert_exporter": "python",
   "pygments_lexer": "ipython3",
   "version": "3.8.5"
  }
 },
 "nbformat": 4,
 "nbformat_minor": 4
}
