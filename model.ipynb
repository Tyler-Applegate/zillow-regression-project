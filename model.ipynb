{
 "cells": [
  {
   "cell_type": "markdown",
   "metadata": {},
   "source": [
    "# Zillow Bestimate\n",
    "## Modeling Notebook"
   ]
  },
  {
   "cell_type": "code",
   "execution_count": 27,
   "metadata": {},
   "outputs": [],
   "source": [
    "import pandas as pd\n",
    "import numpy as np\n",
    "import matplotlib.pyplot as plt\n",
    "import acquire\n",
    "import prepare\n",
    "import explore\n",
    "\n",
    "# modeling methods\n",
    "from sklearn.metrics import mean_squared_error\n",
    "from sklearn.linear_model import LinearRegression, LassoLars, TweedieRegressor\n",
    "from sklearn.preprocessing import PolynomialFeatures\n",
    "from sklearn.metrics import explained_variance_score\n",
    "\n",
    "import warnings\n",
    "warnings.filterwarnings(\"ignore\")"
   ]
  },
  {
   "cell_type": "code",
   "execution_count": 28,
   "metadata": {},
   "outputs": [
    {
     "name": "stdout",
     "output_type": "stream",
     "text": [
      "<class 'pandas.core.frame.DataFrame'>\n",
      "Int64Index: 23937 entries, 11721753 to 10713993\n",
      "Data columns (total 8 columns):\n",
      " #   Column           Non-Null Count  Dtype  \n",
      "---  ------           --------------  -----  \n",
      " 0   bath             23937 non-null  float64\n",
      " 1   bed              23937 non-null  int64  \n",
      " 2   sqft_calc        23937 non-null  int64  \n",
      " 3   fips             23937 non-null  int64  \n",
      " 4   yearbuilt        23937 non-null  int64  \n",
      " 5   appraised_value  23937 non-null  int64  \n",
      " 6   tax_amount       23937 non-null  float64\n",
      " 7   age              23937 non-null  int64  \n",
      "dtypes: float64(2), int64(6)\n",
      "memory usage: 1.6 MB\n"
     ]
    }
   ],
   "source": [
    "# let's bring in the data\n",
    "df = prepare.prep_zillow()\n",
    "df.info()"
   ]
  },
  {
   "cell_type": "code",
   "execution_count": 29,
   "metadata": {},
   "outputs": [],
   "source": [
    "# split our data...\n",
    "train, \\\n",
    "validate, \\\n",
    "test, \\\n",
    "X_train, \\\n",
    "y_train, \\\n",
    "X_validate, \\\n",
    "y_validate, \\\n",
    "X_test, \\\n",
    "y_test = prepare.zillow_split(df, 'appraised_value')"
   ]
  },
  {
   "cell_type": "code",
   "execution_count": 30,
   "metadata": {},
   "outputs": [
    {
     "data": {
      "text/html": [
       "<div>\n",
       "<style scoped>\n",
       "    .dataframe tbody tr th:only-of-type {\n",
       "        vertical-align: middle;\n",
       "    }\n",
       "\n",
       "    .dataframe tbody tr th {\n",
       "        vertical-align: top;\n",
       "    }\n",
       "\n",
       "    .dataframe thead th {\n",
       "        text-align: right;\n",
       "    }\n",
       "</style>\n",
       "<table border=\"1\" class=\"dataframe\">\n",
       "  <thead>\n",
       "    <tr style=\"text-align: right;\">\n",
       "      <th></th>\n",
       "      <th>bath</th>\n",
       "      <th>bed</th>\n",
       "      <th>sqft_calc</th>\n",
       "      <th>fips</th>\n",
       "      <th>yearbuilt</th>\n",
       "      <th>tax_amount</th>\n",
       "      <th>age</th>\n",
       "    </tr>\n",
       "    <tr>\n",
       "      <th>parcel_id</th>\n",
       "      <th></th>\n",
       "      <th></th>\n",
       "      <th></th>\n",
       "      <th></th>\n",
       "      <th></th>\n",
       "      <th></th>\n",
       "      <th></th>\n",
       "    </tr>\n",
       "  </thead>\n",
       "  <tbody>\n",
       "    <tr>\n",
       "      <th>11455769</th>\n",
       "      <td>1.0</td>\n",
       "      <td>2</td>\n",
       "      <td>1250</td>\n",
       "      <td>6037</td>\n",
       "      <td>1947</td>\n",
       "      <td>1204.48</td>\n",
       "      <td>70</td>\n",
       "    </tr>\n",
       "    <tr>\n",
       "      <th>12283129</th>\n",
       "      <td>1.0</td>\n",
       "      <td>3</td>\n",
       "      <td>1128</td>\n",
       "      <td>6037</td>\n",
       "      <td>1933</td>\n",
       "      <td>825.62</td>\n",
       "      <td>84</td>\n",
       "    </tr>\n",
       "    <tr>\n",
       "      <th>11848574</th>\n",
       "      <td>2.0</td>\n",
       "      <td>3</td>\n",
       "      <td>1336</td>\n",
       "      <td>6037</td>\n",
       "      <td>1953</td>\n",
       "      <td>7720.61</td>\n",
       "      <td>64</td>\n",
       "    </tr>\n",
       "    <tr>\n",
       "      <th>12363325</th>\n",
       "      <td>2.0</td>\n",
       "      <td>4</td>\n",
       "      <td>1476</td>\n",
       "      <td>6037</td>\n",
       "      <td>1923</td>\n",
       "      <td>4673.24</td>\n",
       "      <td>94</td>\n",
       "    </tr>\n",
       "    <tr>\n",
       "      <th>14406611</th>\n",
       "      <td>2.5</td>\n",
       "      <td>3</td>\n",
       "      <td>2765</td>\n",
       "      <td>6059</td>\n",
       "      <td>1976</td>\n",
       "      <td>8295.54</td>\n",
       "      <td>41</td>\n",
       "    </tr>\n",
       "  </tbody>\n",
       "</table>\n",
       "</div>"
      ],
      "text/plain": [
       "           bath  bed  sqft_calc  fips  yearbuilt  tax_amount  age\n",
       "parcel_id                                                        \n",
       "11455769    1.0    2       1250  6037       1947     1204.48   70\n",
       "12283129    1.0    3       1128  6037       1933      825.62   84\n",
       "11848574    2.0    3       1336  6037       1953     7720.61   64\n",
       "12363325    2.0    4       1476  6037       1923     4673.24   94\n",
       "14406611    2.5    3       2765  6059       1976     8295.54   41"
      ]
     },
     "execution_count": 30,
     "metadata": {},
     "output_type": "execute_result"
    }
   ],
   "source": [
    "# What are we looking at here?\n",
    "X_train.head()"
   ]
  },
  {
   "cell_type": "code",
   "execution_count": 31,
   "metadata": {},
   "outputs": [
    {
     "data": {
      "image/png": "[encoded data removed]",
      "text/plain": [
       "<Figure size 432x288 with 1 Axes>"
      ]
     },
     "metadata": {
      "needs_background": "light"
     },
     "output_type": "display_data"
    }
   ],
   "source": [
    "# what is the distribution of our target variable (appraised_value)\n",
    "plt.hist(y_train)\n",
    "plt.title('Distribution of Target (appraised_value)')\n",
    "plt.show()"
   ]
  },
  {
   "cell_type": "code",
   "execution_count": 32,
   "metadata": {},
   "outputs": [
    {
     "name": "stdout",
     "output_type": "stream",
     "text": [
      "RMSE using Mean\n",
      "Train/In-Sample:  239384.06 \n",
      "Validate/Out-of-Sample:  236992.24\n"
     ]
    }
   ],
   "source": [
    "# We need y_train and y_validate to be dataframes to append the new columns with predicted values. \n",
    "y_train = pd.DataFrame(y_train)\n",
    "y_validate = pd.DataFrame(y_validate)\n",
    "\n",
    "# Predict av_pred_mean\n",
    "av_pred_mean = y_train['appraised_value'].mean()\n",
    "y_train['av_pred_mean'] = av_pred_mean\n",
    "y_validate['av_pred_mean'] = av_pred_mean\n",
    "\n",
    "# RMSE of av_pred_mean\n",
    "rmse_train = mean_squared_error(y_train['appraised_value'], y_train['av_pred_mean']) ** 0.5\n",
    "rmse_validate = mean_squared_error(y_validate['appraised_value'], y_validate['av_pred_mean']) ** 0.5\n",
    "\n",
    "# How did the baseline mean perform\n",
    "print(\"RMSE using Mean\\nTrain/In-Sample: \", round(rmse_train, 2), \n",
    "      \"\\nValidate/Out-of-Sample: \", round(rmse_validate, 2))"
   ]
  },
  {
   "cell_type": "code",
   "execution_count": 33,
   "metadata": {},
   "outputs": [
    {
     "name": "stdout",
     "output_type": "stream",
     "text": [
      "RMSE using Mean\n",
      "Train/In-Sample:  241452.38 \n",
      "Validate/Out-of-Sample:  238868.74\n"
     ]
    }
   ],
   "source": [
    "# compute av_pred_median\n",
    "av_pred_median = y_train['appraised_value'].median()\n",
    "y_train['av_pred_median'] = av_pred_median\n",
    "y_validate['av_pred_median'] = av_pred_median\n",
    "\n",
    "# RMSE of av_pred_mean\n",
    "rmse_train = mean_squared_error(y_train['appraised_value'], y_train['av_pred_median']) ** 0.5\n",
    "rmse_validate = mean_squared_error(y_validate['appraised_value'], y_validate['av_pred_median']) ** 0.5\n",
    "\n",
    "# How did the baseline mean perform\n",
    "print(\"RMSE using Mean\\nTrain/In-Sample: \", round(rmse_train, 2), \n",
    "      \"\\nValidate/Out-of-Sample: \", round(rmse_validate, 2))"
   ]
  },
  {
   "cell_type": "code",
   "execution_count": 34,
   "metadata": {},
   "outputs": [],
   "source": [
    "# Clean it up now\n",
    "metric_df = pd.DataFrame(data=[{\n",
    "    'model': 'mean_baseline',\n",
    "    'rmse_validate': rmse_validate.round(2),\n",
    "    'r^2_validate': explained_variance_score(y_validate['appraised_value'], y_validate['av_pred_mean'])}])"
   ]
  },
  {
   "cell_type": "code",
   "execution_count": 35,
   "metadata": {},
   "outputs": [
    {
     "data": {
      "text/html": [
       "<div>\n",
       "<style scoped>\n",
       "    .dataframe tbody tr th:only-of-type {\n",
       "        vertical-align: middle;\n",
       "    }\n",
       "\n",
       "    .dataframe tbody tr th {\n",
       "        vertical-align: top;\n",
       "    }\n",
       "\n",
       "    .dataframe thead th {\n",
       "        text-align: right;\n",
       "    }\n",
       "</style>\n",
       "<table border=\"1\" class=\"dataframe\">\n",
       "  <thead>\n",
       "    <tr style=\"text-align: right;\">\n",
       "      <th></th>\n",
       "      <th>model</th>\n",
       "      <th>rmse_validate</th>\n",
       "      <th>r^2_validate</th>\n",
       "    </tr>\n",
       "  </thead>\n",
       "  <tbody>\n",
       "    <tr>\n",
       "      <th>0</th>\n",
       "      <td>mean_baseline</td>\n",
       "      <td>238868.74</td>\n",
       "      <td>0.0</td>\n",
       "    </tr>\n",
       "  </tbody>\n",
       "</table>\n",
       "</div>"
      ],
      "text/plain": [
       "           model  rmse_validate  r^2_validate\n",
       "0  mean_baseline      238868.74           0.0"
      ]
     },
     "execution_count": 35,
     "metadata": {},
     "output_type": "execute_result"
    }
   ],
   "source": [
    "metric_df"
   ]
  },
  {
   "cell_type": "code",
   "execution_count": 37,
   "metadata": {},
   "outputs": [
    {
     "data": {
      "text/html": [
       "<div>\n",
       "<style scoped>\n",
       "    .dataframe tbody tr th:only-of-type {\n",
       "        vertical-align: middle;\n",
       "    }\n",
       "\n",
       "    .dataframe tbody tr th {\n",
       "        vertical-align: top;\n",
       "    }\n",
       "\n",
       "    .dataframe thead th {\n",
       "        text-align: right;\n",
       "    }\n",
       "</style>\n",
       "<table border=\"1\" class=\"dataframe\">\n",
       "  <thead>\n",
       "    <tr style=\"text-align: right;\">\n",
       "      <th></th>\n",
       "      <th>appraised_value</th>\n",
       "      <th>av_pred_mean</th>\n",
       "      <th>av_pred_median</th>\n",
       "    </tr>\n",
       "    <tr>\n",
       "      <th>parcel_id</th>\n",
       "      <th></th>\n",
       "      <th></th>\n",
       "      <th></th>\n",
       "    </tr>\n",
       "  </thead>\n",
       "  <tbody>\n",
       "    <tr>\n",
       "      <th>11455769</th>\n",
       "      <td>91276</td>\n",
       "      <td>374572.06416</td>\n",
       "      <td>343036.0</td>\n",
       "    </tr>\n",
       "    <tr>\n",
       "      <th>12283129</th>\n",
       "      <td>39349</td>\n",
       "      <td>374572.06416</td>\n",
       "      <td>343036.0</td>\n",
       "    </tr>\n",
       "    <tr>\n",
       "      <th>11848574</th>\n",
       "      <td>569000</td>\n",
       "      <td>374572.06416</td>\n",
       "      <td>343036.0</td>\n",
       "    </tr>\n",
       "    <tr>\n",
       "      <th>12363325</th>\n",
       "      <td>286850</td>\n",
       "      <td>374572.06416</td>\n",
       "      <td>343036.0</td>\n",
       "    </tr>\n",
       "    <tr>\n",
       "      <th>14406611</th>\n",
       "      <td>797022</td>\n",
       "      <td>374572.06416</td>\n",
       "      <td>343036.0</td>\n",
       "    </tr>\n",
       "  </tbody>\n",
       "</table>\n",
       "</div>"
      ],
      "text/plain": [
       "           appraised_value  av_pred_mean  av_pred_median\n",
       "parcel_id                                               \n",
       "11455769             91276  374572.06416        343036.0\n",
       "12283129             39349  374572.06416        343036.0\n",
       "11848574            569000  374572.06416        343036.0\n",
       "12363325            286850  374572.06416        343036.0\n",
       "14406611            797022  374572.06416        343036.0"
      ]
     },
     "execution_count": 37,
     "metadata": {},
     "output_type": "execute_result"
    }
   ],
   "source": [
    "y_train.head()"
   ]
  },
  {
   "cell_type": "code",
   "execution_count": 38,
   "metadata": {},
   "outputs": [
    {
     "data": {
      "image/png": "[encoded data removed]",
      "text/plain": [
       "<Figure size 432x288 with 1 Axes>"
      ]
     },
     "metadata": {
      "needs_background": "light"
     },
     "output_type": "display_data"
    }
   ],
   "source": [
    "# plot to visualize actual vs predicted. \n",
    "plt.hist(y_train['appraised_value'], color='blue', alpha=.5, label=\"Actual Appraised Values\")\n",
    "plt.hist(y_train['av_pred_mean'], bins=1, color='red', alpha=.5, rwidth=100, label=\"Predicted Appraised Values - Mean\")\n",
    "plt.hist(y_train['av_pred_median'], bins=1, color='orange', alpha=.5, rwidth=100, label=\"Predicted Appraised Values - Median\")\n",
    "plt.xlabel(\"Appraised Value\")\n",
    "plt.ylabel(\"Number of Properties\")\n",
    "plt.legend()\n",
    "plt.ylim()\n",
    "plt.show()"
   ]
  },
  {
   "cell_type": "code",
   "execution_count": null,
   "metadata": {},
   "outputs": [],
   "source": []
  },
  {
   "cell_type": "code",
   "execution_count": null,
   "metadata": {},
   "outputs": [],
   "source": []
  },
  {
   "cell_type": "code",
   "execution_count": null,
   "metadata": {},
   "outputs": [],
   "source": []
  },
  {
   "cell_type": "markdown",
   "metadata": {},
   "source": [
    "#### Takeaways:\n",
    "- The mean appears to be a slightly more accurate baseline model.\n",
    "- It's average appraised_value prediction is off by $237k"
   ]
  },
  {
   "cell_type": "code",
   "execution_count": null,
   "metadata": {},
   "outputs": [],
   "source": []
  }
 ],
 "metadata": {
  "kernelspec": {
   "display_name": "Python 3.8.5 64-bit ('base': conda)",
   "language": "python",
   "name": "python385jvsc74a57bd0b64057e63add2b45b1ffc7eab9b09c8889b419c878e2fdf0d08f837f0fc857a7"
  },
  "language_info": {
   "codemirror_mode": {
    "name": "ipython",
    "version": 3
   },
   "file_extension": ".py",
   "mimetype": "text/x-python",
   "name": "python",
   "nbconvert_exporter": "python",
   "pygments_lexer": "ipython3",
   "version": "3.8.5"
  }
 },
 "nbformat": 4,
 "nbformat_minor": 4
}
