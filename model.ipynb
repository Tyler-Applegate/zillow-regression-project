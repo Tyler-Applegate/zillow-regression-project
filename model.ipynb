{
 "cells": [
  {
   "cell_type": "markdown",
   "metadata": {},
   "source": [
    "# Zillow Bestimate\n",
    "## Modeling Notebook"
   ]
  },
  {
   "cell_type": "code",
   "execution_count": 1,
   "metadata": {},
   "outputs": [],
   "source": [
    "import pandas as pd\n",
    "import numpy as np\n",
    "import matplotlib.pyplot as plt\n",
    "import acquire\n",
    "import prepare\n",
    "import explore\n",
    "\n",
    "# modeling methods\n",
    "from sklearn.metrics import mean_squared_error\n",
    "from sklearn.linear_model import LinearRegression, LassoLars, TweedieRegressor\n",
    "from sklearn.preprocessing import PolynomialFeatures\n",
    "from sklearn.metrics import explained_variance_score\n",
    "\n",
    "import warnings\n",
    "warnings.filterwarnings(\"ignore\")"
   ]
  },
  {
   "cell_type": "code",
   "execution_count": 2,
   "metadata": {},
   "outputs": [
    {
     "name": "stdout",
     "output_type": "stream",
     "text": [
      "<class 'pandas.core.frame.DataFrame'>\n",
      "Int64Index: 23796 entries, 11721753 to 10713993\n",
      "Data columns (total 8 columns):\n",
      " #   Column           Non-Null Count  Dtype  \n",
      "---  ------           --------------  -----  \n",
      " 0   bath             23796 non-null  float64\n",
      " 1   bed              23796 non-null  int64  \n",
      " 2   sqft_calc        23796 non-null  int64  \n",
      " 3   fips             23796 non-null  int64  \n",
      " 4   yearbuilt        23796 non-null  int64  \n",
      " 5   appraised_value  23796 non-null  int64  \n",
      " 6   tax_amount       23796 non-null  float64\n",
      " 7   age              23796 non-null  int64  \n",
      "dtypes: float64(2), int64(6)\n",
      "memory usage: 1.6 MB\n"
     ]
    }
   ],
   "source": [
    "# let's bring in the data\n",
    "df = prepare.prep_zillow()\n",
    "df.info()"
   ]
  },
  {
   "cell_type": "code",
   "execution_count": 3,
   "metadata": {},
   "outputs": [],
   "source": [
    "# split our data...\n",
    "train, \\\n",
    "validate, \\\n",
    "test, \\\n",
    "X_train, \\\n",
    "y_train, \\\n",
    "X_validate, \\\n",
    "y_validate, \\\n",
    "X_test, \\\n",
    "y_test = prepare.zillow_split(df, 'appraised_value')"
   ]
  },
  {
   "cell_type": "code",
   "execution_count": 4,
   "metadata": {},
   "outputs": [
    {
     "data": {
      "text/html": [
       "<div>\n",
       "<style scoped>\n",
       "    .dataframe tbody tr th:only-of-type {\n",
       "        vertical-align: middle;\n",
       "    }\n",
       "\n",
       "    .dataframe tbody tr th {\n",
       "        vertical-align: top;\n",
       "    }\n",
       "\n",
       "    .dataframe thead th {\n",
       "        text-align: right;\n",
       "    }\n",
       "</style>\n",
       "<table border=\"1\" class=\"dataframe\">\n",
       "  <thead>\n",
       "    <tr style=\"text-align: right;\">\n",
       "      <th></th>\n",
       "      <th>bath</th>\n",
       "      <th>bed</th>\n",
       "      <th>sqft_calc</th>\n",
       "      <th>fips</th>\n",
       "      <th>yearbuilt</th>\n",
       "      <th>age</th>\n",
       "    </tr>\n",
       "    <tr>\n",
       "      <th>parcel_id</th>\n",
       "      <th></th>\n",
       "      <th></th>\n",
       "      <th></th>\n",
       "      <th></th>\n",
       "      <th></th>\n",
       "      <th></th>\n",
       "    </tr>\n",
       "  </thead>\n",
       "  <tbody>\n",
       "    <tr>\n",
       "      <th>12690904</th>\n",
       "      <td>3.0</td>\n",
       "      <td>3</td>\n",
       "      <td>2028</td>\n",
       "      <td>6037</td>\n",
       "      <td>1975</td>\n",
       "      <td>42</td>\n",
       "    </tr>\n",
       "    <tr>\n",
       "      <th>12925110</th>\n",
       "      <td>2.0</td>\n",
       "      <td>2</td>\n",
       "      <td>1719</td>\n",
       "      <td>6037</td>\n",
       "      <td>1941</td>\n",
       "      <td>76</td>\n",
       "    </tr>\n",
       "    <tr>\n",
       "      <th>17084074</th>\n",
       "      <td>2.0</td>\n",
       "      <td>4</td>\n",
       "      <td>1697</td>\n",
       "      <td>6111</td>\n",
       "      <td>1955</td>\n",
       "      <td>62</td>\n",
       "    </tr>\n",
       "    <tr>\n",
       "      <th>14413393</th>\n",
       "      <td>2.5</td>\n",
       "      <td>3</td>\n",
       "      <td>1773</td>\n",
       "      <td>6059</td>\n",
       "      <td>1991</td>\n",
       "      <td>26</td>\n",
       "    </tr>\n",
       "    <tr>\n",
       "      <th>11160683</th>\n",
       "      <td>2.0</td>\n",
       "      <td>3</td>\n",
       "      <td>1040</td>\n",
       "      <td>6037</td>\n",
       "      <td>1969</td>\n",
       "      <td>48</td>\n",
       "    </tr>\n",
       "  </tbody>\n",
       "</table>\n",
       "</div>"
      ],
      "text/plain": [
       "           bath  bed  sqft_calc  fips  yearbuilt  age\n",
       "parcel_id                                            \n",
       "12690904    3.0    3       2028  6037       1975   42\n",
       "12925110    2.0    2       1719  6037       1941   76\n",
       "17084074    2.0    4       1697  6111       1955   62\n",
       "14413393    2.5    3       1773  6059       1991   26\n",
       "11160683    2.0    3       1040  6037       1969   48"
      ]
     },
     "execution_count": 4,
     "metadata": {},
     "output_type": "execute_result"
    }
   ],
   "source": [
    "# What are we looking at here?\n",
    "X_train.head()"
   ]
  },
  {
   "cell_type": "code",
   "execution_count": 5,
   "metadata": {},
   "outputs": [
    {
     "data": {
      "image/png": "[encoded data removed]",
      "text/plain": [
       "<Figure size 432x288 with 1 Axes>"
      ]
     },
     "metadata": {
      "needs_background": "light"
     },
     "output_type": "display_data"
    }
   ],
   "source": [
    "# what is the distribution of our target variable (appraised_value)\n",
    "plt.hist(y_train)\n",
    "plt.title('Distribution of Target (appraised_value)')\n",
    "plt.show()"
   ]
  },
  {
   "cell_type": "code",
   "execution_count": 6,
   "metadata": {},
   "outputs": [
    {
     "name": "stdout",
     "output_type": "stream",
     "text": [
      "RMSE using Mean\n",
      "Train/In-Sample:  239383.52 \n",
      "Validate/Out-of-Sample:  238334.83\n"
     ]
    }
   ],
   "source": [
    "# We need y_train and y_validate to be dataframes to append the new columns with predicted values. \n",
    "y_train = pd.DataFrame(y_train)\n",
    "y_validate = pd.DataFrame(y_validate)\n",
    "\n",
    "# Predict av_pred_mean\n",
    "av_pred_mean = y_train['appraised_value'].mean()\n",
    "y_train['av_pred_mean'] = av_pred_mean\n",
    "y_validate['av_pred_mean'] = av_pred_mean\n",
    "\n",
    "# RMSE of av_pred_mean\n",
    "rmse_train = mean_squared_error(y_train['appraised_value'], y_train['av_pred_mean']) ** 0.5\n",
    "rmse_validate = mean_squared_error(y_validate['appraised_value'], y_validate['av_pred_mean']) ** 0.5\n",
    "\n",
    "# How did the baseline mean perform\n",
    "print(\"RMSE using Mean\\nTrain/In-Sample: \", round(rmse_train, 2), \n",
    "      \"\\nValidate/Out-of-Sample: \", round(rmse_validate, 2))"
   ]
  },
  {
   "cell_type": "code",
   "execution_count": 7,
   "metadata": {},
   "outputs": [
    {
     "name": "stdout",
     "output_type": "stream",
     "text": [
      "RMSE using Mean\n",
      "Train/In-Sample:  241720.83 \n",
      "Validate/Out-of-Sample:  240874.47\n"
     ]
    }
   ],
   "source": [
    "# compute av_pred_median\n",
    "av_pred_median = y_train['appraised_value'].median()\n",
    "y_train['av_pred_median'] = av_pred_median\n",
    "y_validate['av_pred_median'] = av_pred_median\n",
    "\n",
    "# RMSE of av_pred_mean\n",
    "rmse_train = mean_squared_error(y_train['appraised_value'], y_train['av_pred_median']) ** 0.5\n",
    "rmse_validate = mean_squared_error(y_validate['appraised_value'], y_validate['av_pred_median']) ** 0.5\n",
    "\n",
    "# How did the baseline mean perform\n",
    "print(\"RMSE using Mean\\nTrain/In-Sample: \", round(rmse_train, 2), \n",
    "      \"\\nValidate/Out-of-Sample: \", round(rmse_validate, 2))"
   ]
  },
  {
   "cell_type": "code",
   "execution_count": 8,
   "metadata": {},
   "outputs": [],
   "source": [
    "# Clean it up now\n",
    "metric_df = pd.DataFrame(data=[{\n",
    "    'model': 'mean_baseline',\n",
    "    'rmse_validate': rmse_validate.round(2),\n",
    "    'r^2_validate': explained_variance_score(y_validate['appraised_value'], y_validate['av_pred_mean'])}])"
   ]
  },
  {
   "cell_type": "code",
   "execution_count": 9,
   "metadata": {},
   "outputs": [
    {
     "data": {
      "text/html": [
       "<div>\n",
       "<style scoped>\n",
       "    .dataframe tbody tr th:only-of-type {\n",
       "        vertical-align: middle;\n",
       "    }\n",
       "\n",
       "    .dataframe tbody tr th {\n",
       "        vertical-align: top;\n",
       "    }\n",
       "\n",
       "    .dataframe thead th {\n",
       "        text-align: right;\n",
       "    }\n",
       "</style>\n",
       "<table border=\"1\" class=\"dataframe\">\n",
       "  <thead>\n",
       "    <tr style=\"text-align: right;\">\n",
       "      <th></th>\n",
       "      <th>model</th>\n",
       "      <th>rmse_validate</th>\n",
       "      <th>r^2_validate</th>\n",
       "    </tr>\n",
       "  </thead>\n",
       "  <tbody>\n",
       "    <tr>\n",
       "      <th>0</th>\n",
       "      <td>mean_baseline</td>\n",
       "      <td>240874.47</td>\n",
       "      <td>-2.220446e-16</td>\n",
       "    </tr>\n",
       "  </tbody>\n",
       "</table>\n",
       "</div>"
      ],
      "text/plain": [
       "           model  rmse_validate  r^2_validate\n",
       "0  mean_baseline      240874.47 -2.220446e-16"
      ]
     },
     "execution_count": 9,
     "metadata": {},
     "output_type": "execute_result"
    }
   ],
   "source": [
    "metric_df"
   ]
  },
  {
   "cell_type": "code",
   "execution_count": 10,
   "metadata": {},
   "outputs": [
    {
     "data": {
      "text/html": [
       "<div>\n",
       "<style scoped>\n",
       "    .dataframe tbody tr th:only-of-type {\n",
       "        vertical-align: middle;\n",
       "    }\n",
       "\n",
       "    .dataframe tbody tr th {\n",
       "        vertical-align: top;\n",
       "    }\n",
       "\n",
       "    .dataframe thead th {\n",
       "        text-align: right;\n",
       "    }\n",
       "</style>\n",
       "<table border=\"1\" class=\"dataframe\">\n",
       "  <thead>\n",
       "    <tr style=\"text-align: right;\">\n",
       "      <th></th>\n",
       "      <th>appraised_value</th>\n",
       "      <th>av_pred_mean</th>\n",
       "      <th>av_pred_median</th>\n",
       "    </tr>\n",
       "    <tr>\n",
       "      <th>parcel_id</th>\n",
       "      <th></th>\n",
       "      <th></th>\n",
       "      <th></th>\n",
       "    </tr>\n",
       "  </thead>\n",
       "  <tbody>\n",
       "    <tr>\n",
       "      <th>12690904</th>\n",
       "      <td>888000</td>\n",
       "      <td>373063.428818</td>\n",
       "      <td>339530.0</td>\n",
       "    </tr>\n",
       "    <tr>\n",
       "      <th>12925110</th>\n",
       "      <td>76995</td>\n",
       "      <td>373063.428818</td>\n",
       "      <td>339530.0</td>\n",
       "    </tr>\n",
       "    <tr>\n",
       "      <th>17084074</th>\n",
       "      <td>70691</td>\n",
       "      <td>373063.428818</td>\n",
       "      <td>339530.0</td>\n",
       "    </tr>\n",
       "    <tr>\n",
       "      <th>14413393</th>\n",
       "      <td>792686</td>\n",
       "      <td>373063.428818</td>\n",
       "      <td>339530.0</td>\n",
       "    </tr>\n",
       "    <tr>\n",
       "      <th>11160683</th>\n",
       "      <td>87748</td>\n",
       "      <td>373063.428818</td>\n",
       "      <td>339530.0</td>\n",
       "    </tr>\n",
       "  </tbody>\n",
       "</table>\n",
       "</div>"
      ],
      "text/plain": [
       "           appraised_value   av_pred_mean  av_pred_median\n",
       "parcel_id                                                \n",
       "12690904            888000  373063.428818        339530.0\n",
       "12925110             76995  373063.428818        339530.0\n",
       "17084074             70691  373063.428818        339530.0\n",
       "14413393            792686  373063.428818        339530.0\n",
       "11160683             87748  373063.428818        339530.0"
      ]
     },
     "execution_count": 10,
     "metadata": {},
     "output_type": "execute_result"
    }
   ],
   "source": [
    "y_train.head()"
   ]
  },
  {
   "cell_type": "code",
   "execution_count": 11,
   "metadata": {},
   "outputs": [
    {
     "data": {
      "image/png": "[encoded data removed]",
      "text/plain": [
       "<Figure size 432x288 with 1 Axes>"
      ]
     },
     "metadata": {
      "needs_background": "light"
     },
     "output_type": "display_data"
    }
   ],
   "source": [
    "# plot to visualize actual vs predicted. \n",
    "plt.hist(y_train['appraised_value'], color='blue', alpha=.5, label=\"Actual Appraised Values\")\n",
    "plt.hist(y_train['av_pred_mean'], bins=1, color='red', alpha=.5, rwidth=100, label=\"Predicted Appraised Values - Mean\")\n",
    "plt.hist(y_train['av_pred_median'], bins=1, color='orange', alpha=.5, rwidth=100, label=\"Predicted Appraised Values - Median\")\n",
    "plt.xlabel(\"Appraised Value\")\n",
    "plt.ylabel(\"Number of Properties\")\n",
    "plt.legend()\n",
    "plt.ylim()\n",
    "plt.show()"
   ]
  },
  {
   "cell_type": "markdown",
   "metadata": {},
   "source": [
    "#### Linear Regression"
   ]
  },
  {
   "cell_type": "code",
   "execution_count": 12,
   "metadata": {},
   "outputs": [
    {
     "name": "stdout",
     "output_type": "stream",
     "text": [
      "RMSE for OLS using LinearRegression\n",
      "Training/In-Sample:  211411.11802263086 \n",
      "Validation/Out-of-Sample:  212701.85814930536\n"
     ]
    }
   ],
   "source": [
    "# create the model object\n",
    "lm = LinearRegression(normalize=True)\n",
    "\n",
    "# fit the model to our training data. We must specify the column in y_train, \n",
    "# since we have converted it to a dataframe from a series! \n",
    "lm.fit(X_train, y_train['appraised_value'])\n",
    "\n",
    "# predict train\n",
    "y_train['av_pred_lm'] = lm.predict(X_train)\n",
    "\n",
    "# evaluate: rmse\n",
    "rmse_train = mean_squared_error(y_train['appraised_value'], y_train['av_pred_lm']) ** (1/2)\n",
    "# predict validate\n",
    "y_validate['av_pred_lm'] = lm.predict(X_validate)\n",
    "\n",
    "# evaluate: rmse\n",
    "rmse_validate = mean_squared_error(y_validate['appraised_value'], y_validate['av_pred_lm']) ** (1/2)\n",
    "\n",
    "print(\"RMSE for OLS using LinearRegression\\nTraining/In-Sample: \", rmse_train, \n",
    "      \"\\nValidation/Out-of-Sample: \", rmse_validate)"
   ]
  },
  {
   "cell_type": "code",
   "execution_count": 13,
   "metadata": {},
   "outputs": [
    {
     "data": {
      "text/html": [
       "<div>\n",
       "<style scoped>\n",
       "    .dataframe tbody tr th:only-of-type {\n",
       "        vertical-align: middle;\n",
       "    }\n",
       "\n",
       "    .dataframe tbody tr th {\n",
       "        vertical-align: top;\n",
       "    }\n",
       "\n",
       "    .dataframe thead th {\n",
       "        text-align: right;\n",
       "    }\n",
       "</style>\n",
       "<table border=\"1\" class=\"dataframe\">\n",
       "  <thead>\n",
       "    <tr style=\"text-align: right;\">\n",
       "      <th></th>\n",
       "      <th>model</th>\n",
       "      <th>rmse_validate</th>\n",
       "      <th>r^2_validate</th>\n",
       "    </tr>\n",
       "  </thead>\n",
       "  <tbody>\n",
       "    <tr>\n",
       "      <th>0</th>\n",
       "      <td>mean_baseline</td>\n",
       "      <td>240874.470000</td>\n",
       "      <td>-2.220446e-16</td>\n",
       "    </tr>\n",
       "    <tr>\n",
       "      <th>1</th>\n",
       "      <td>OLS lm 1</td>\n",
       "      <td>212701.858149</td>\n",
       "      <td>2.035097e-01</td>\n",
       "    </tr>\n",
       "  </tbody>\n",
       "</table>\n",
       "</div>"
      ],
      "text/plain": [
       "           model  rmse_validate  r^2_validate\n",
       "0  mean_baseline  240874.470000 -2.220446e-16\n",
       "1       OLS lm 1  212701.858149  2.035097e-01"
      ]
     },
     "execution_count": 13,
     "metadata": {},
     "output_type": "execute_result"
    }
   ],
   "source": [
    "\n",
    "metric_df = metric_df.append(\n",
    "    {\n",
    "    'model': 'OLS lm 1',\n",
    "    'rmse_validate': rmse_validate,\n",
    "    'r^2_validate': explained_variance_score(y_validate['appraised_value'], y_validate['av_pred_lm'])}, ignore_index=True)\n",
    "metric_df"
   ]
  },
  {
   "cell_type": "markdown",
   "metadata": {},
   "source": [
    "#### LassoLars"
   ]
  },
  {
   "cell_type": "code",
   "execution_count": 14,
   "metadata": {},
   "outputs": [
    {
     "name": "stdout",
     "output_type": "stream",
     "text": [
      "RMSE for Lasso + Lars\n",
      "Training/In-Sample:  211395.43736635265 \n",
      "Validation/Out-of-Sample:  212690.75875564947\n"
     ]
    }
   ],
   "source": [
    "# create the model object\n",
    "lars = LassoLars(alpha=1)\n",
    "\n",
    "# fit the model to our training data. We must specify the column in y_train, \n",
    "# since we have converted it to a dataframe from a series!\n",
    "lars.fit(X_train, y_train['appraised_value'])\n",
    "\n",
    "# predict train\n",
    "y_train['av_pred_lars'] = lars.predict(X_train)\n",
    "\n",
    "# evaluate: rmse\n",
    "rmse_train = mean_squared_error(y_train['appraised_value'], y_train['av_pred_lars']) ** 0.5\n",
    "\n",
    "# predict validate\n",
    "y_validate['av_pred_lars'] = lars.predict(X_validate)\n",
    "\n",
    "# evaluate: rmse\n",
    "rmse_validate = mean_squared_error(y_validate['appraised_value'], y_validate['av_pred_lars']) ** 0.5\n",
    "\n",
    "print(\"RMSE for Lasso + Lars\\nTraining/In-Sample: \", rmse_train, \n",
    "      \"\\nValidation/Out-of-Sample: \", rmse_validate)"
   ]
  },
  {
   "cell_type": "code",
   "execution_count": 15,
   "metadata": {},
   "outputs": [
    {
     "data": {
      "text/html": [
       "<div>\n",
       "<style scoped>\n",
       "    .dataframe tbody tr th:only-of-type {\n",
       "        vertical-align: middle;\n",
       "    }\n",
       "\n",
       "    .dataframe tbody tr th {\n",
       "        vertical-align: top;\n",
       "    }\n",
       "\n",
       "    .dataframe thead th {\n",
       "        text-align: right;\n",
       "    }\n",
       "</style>\n",
       "<table border=\"1\" class=\"dataframe\">\n",
       "  <thead>\n",
       "    <tr style=\"text-align: right;\">\n",
       "      <th></th>\n",
       "      <th>model</th>\n",
       "      <th>rmse_validate</th>\n",
       "      <th>r^2_validate</th>\n",
       "    </tr>\n",
       "  </thead>\n",
       "  <tbody>\n",
       "    <tr>\n",
       "      <th>0</th>\n",
       "      <td>mean_baseline</td>\n",
       "      <td>240874.470000</td>\n",
       "      <td>-2.220446e-16</td>\n",
       "    </tr>\n",
       "    <tr>\n",
       "      <th>1</th>\n",
       "      <td>OLS lm 1</td>\n",
       "      <td>212701.858149</td>\n",
       "      <td>2.035097e-01</td>\n",
       "    </tr>\n",
       "    <tr>\n",
       "      <th>2</th>\n",
       "      <td>LassoLars alpha 1</td>\n",
       "      <td>212690.758756</td>\n",
       "      <td>2.035923e-01</td>\n",
       "    </tr>\n",
       "  </tbody>\n",
       "</table>\n",
       "</div>"
      ],
      "text/plain": [
       "               model  rmse_validate  r^2_validate\n",
       "0      mean_baseline  240874.470000 -2.220446e-16\n",
       "1           OLS lm 1  212701.858149  2.035097e-01\n",
       "2  LassoLars alpha 1  212690.758756  2.035923e-01"
      ]
     },
     "execution_count": 15,
     "metadata": {},
     "output_type": "execute_result"
    }
   ],
   "source": [
    "metric_df = metric_df.append(\n",
    "    {\n",
    "    'model': 'LassoLars alpha 1',\n",
    "    'rmse_validate': rmse_validate,\n",
    "    'r^2_validate': explained_variance_score(y_validate['appraised_value'], y_validate['av_pred_lars'])}, ignore_index=True)\n",
    "metric_df"
   ]
  },
  {
   "cell_type": "markdown",
   "metadata": {},
   "source": [
    "#### TweedieRegressor (GLM)"
   ]
  },
  {
   "cell_type": "code",
   "execution_count": 16,
   "metadata": {},
   "outputs": [
    {
     "name": "stdout",
     "output_type": "stream",
     "text": [
      "RMSE for GLM using Tweedie, power=1 & alpha=0\n",
      "Training/In-Sample:  239383.51569409552 \n",
      "Validation/Out-of-Sample:  238334.83408501098\n"
     ]
    }
   ],
   "source": [
    "\n",
    "# create the model object\n",
    "glm = TweedieRegressor(power=1, alpha=0)\n",
    "\n",
    "# fit the model to our training data. We must specify the column in y_train, \n",
    "# since we have converted it to a dataframe from a series! \n",
    "\n",
    "glm.fit(X_train, y_train['appraised_value'])\n",
    "\n",
    "# predict train\n",
    "y_train['av_pred_glm'] = glm.predict(X_train)\n",
    "\n",
    "# evaluate: rmse\n",
    "rmse_train = mean_squared_error(y_train['appraised_value'], y_train['av_pred_glm']) ** 0.5\n",
    "\n",
    "\n",
    "# predict validate\n",
    "y_validate['av_pred_glm'] = glm.predict(X_validate)\n",
    "\n",
    "# evaluate: rmse\n",
    "rmse_validate = mean_squared_error(y_validate['appraised_value'], y_validate['av_pred_glm']) ** 0.5\n",
    "\n",
    "\n",
    "print(\"RMSE for GLM using Tweedie, power=1 & alpha=0\\nTraining/In-Sample: \", rmse_train, \n",
    "      \"\\nValidation/Out-of-Sample: \", rmse_validate)"
   ]
  },
  {
   "cell_type": "code",
   "execution_count": 17,
   "metadata": {},
   "outputs": [
    {
     "data": {
      "text/html": [
       "<div>\n",
       "<style scoped>\n",
       "    .dataframe tbody tr th:only-of-type {\n",
       "        vertical-align: middle;\n",
       "    }\n",
       "\n",
       "    .dataframe tbody tr th {\n",
       "        vertical-align: top;\n",
       "    }\n",
       "\n",
       "    .dataframe thead th {\n",
       "        text-align: right;\n",
       "    }\n",
       "</style>\n",
       "<table border=\"1\" class=\"dataframe\">\n",
       "  <thead>\n",
       "    <tr style=\"text-align: right;\">\n",
       "      <th></th>\n",
       "      <th>model</th>\n",
       "      <th>rmse_validate</th>\n",
       "      <th>r^2_validate</th>\n",
       "    </tr>\n",
       "  </thead>\n",
       "  <tbody>\n",
       "    <tr>\n",
       "      <th>0</th>\n",
       "      <td>mean_baseline</td>\n",
       "      <td>240874.470000</td>\n",
       "      <td>-2.220446e-16</td>\n",
       "    </tr>\n",
       "    <tr>\n",
       "      <th>1</th>\n",
       "      <td>OLS lm 1</td>\n",
       "      <td>212701.858149</td>\n",
       "      <td>2.035097e-01</td>\n",
       "    </tr>\n",
       "    <tr>\n",
       "      <th>2</th>\n",
       "      <td>LassoLars alpha 1</td>\n",
       "      <td>212690.758756</td>\n",
       "      <td>2.035923e-01</td>\n",
       "    </tr>\n",
       "    <tr>\n",
       "      <th>3</th>\n",
       "      <td>GLM Model power 1</td>\n",
       "      <td>238334.834085</td>\n",
       "      <td>0.000000e+00</td>\n",
       "    </tr>\n",
       "  </tbody>\n",
       "</table>\n",
       "</div>"
      ],
      "text/plain": [
       "               model  rmse_validate  r^2_validate\n",
       "0      mean_baseline  240874.470000 -2.220446e-16\n",
       "1           OLS lm 1  212701.858149  2.035097e-01\n",
       "2  LassoLars alpha 1  212690.758756  2.035923e-01\n",
       "3  GLM Model power 1  238334.834085  0.000000e+00"
      ]
     },
     "execution_count": 17,
     "metadata": {},
     "output_type": "execute_result"
    }
   ],
   "source": [
    "metric_df = metric_df.append(\n",
    "    {\n",
    "    'model': 'GLM Model power 1',\n",
    "    'rmse_validate': rmse_validate,\n",
    "    'r^2_validate': explained_variance_score(y_validate['appraised_value'], y_validate['av_pred_glm'])}, ignore_index=True)\n",
    "metric_df"
   ]
  },
  {
   "cell_type": "markdown",
   "metadata": {},
   "source": [
    "#### Takeaways:\n",
    "- The mean appears to be a slightly more accurate baseline model, than the median.\n",
    "- It's average appraised_value prediction is off by `$241k`.\n",
    "- All three models improve upon the baseline model, and LassoLars in the strongest.\n",
    "- LassoLars improves upon the baseline by `12 percent`, down to an average residual of `$213k`"
   ]
  },
  {
   "cell_type": "code",
   "execution_count": null,
   "metadata": {},
   "outputs": [],
   "source": []
  },
  {
   "cell_type": "code",
   "execution_count": null,
   "metadata": {},
   "outputs": [],
   "source": []
  }
 ],
 "metadata": {
  "kernelspec": {
   "display_name": "Python 3.8.5 64-bit ('base': conda)",
   "language": "python",
   "name": "python385jvsc74a57bd0b64057e63add2b45b1ffc7eab9b09c8889b419c878e2fdf0d08f837f0fc857a7"
  },
  "language_info": {
   "codemirror_mode": {
    "name": "ipython",
    "version": 3
   },
   "file_extension": ".py",
   "mimetype": "text/x-python",
   "name": "python",
   "nbconvert_exporter": "python",
   "pygments_lexer": "ipython3",
   "version": "3.8.5"
  }
 },
 "nbformat": 4,
 "nbformat_minor": 4
}
